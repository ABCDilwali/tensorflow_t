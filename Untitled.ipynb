{
 "cells": [
  {
   "cell_type": "code",
   "execution_count": 4,
   "metadata": {},
   "outputs": [],
   "source": [
    "import tensorflow as tf\n",
    "import pandas as pd\n",
    "import numpy as np"
   ]
  },
  {
   "cell_type": "code",
   "execution_count": 5,
   "metadata": {},
   "outputs": [
    {
     "name": "stdout",
     "output_type": "stream",
     "text": [
      "1.12.0 0.24.2 1.16.2\n"
     ]
    }
   ],
   "source": [
    "print(tf.__version__, pd.__version__, np.__version__)"
   ]
  },
  {
   "cell_type": "code",
   "execution_count": 6,
   "metadata": {},
   "outputs": [],
   "source": [
    "#https://www.tensorflow.org/tutorials/estimators/boosted_trees\n",
    "tf.enable_eager_execution()\n",
    "\n",
    "tf.logging.set_verbosity(tf.logging.ERROR)\n",
    "tf.set_random_seed(123)"
   ]
  },
  {
   "cell_type": "code",
   "execution_count": 88,
   "metadata": {},
   "outputs": [
    {
     "data": {
      "text/html": [
       "<div>\n",
       "<style scoped>\n",
       "    .dataframe tbody tr th:only-of-type {\n",
       "        vertical-align: middle;\n",
       "    }\n",
       "\n",
       "    .dataframe tbody tr th {\n",
       "        vertical-align: top;\n",
       "    }\n",
       "\n",
       "    .dataframe thead th {\n",
       "        text-align: right;\n",
       "    }\n",
       "</style>\n",
       "<table border=\"1\" class=\"dataframe\">\n",
       "  <thead>\n",
       "    <tr style=\"text-align: right;\">\n",
       "      <th></th>\n",
       "      <th>target</th>\n",
       "      <th>predictor1</th>\n",
       "      <th>predictor2</th>\n",
       "    </tr>\n",
       "  </thead>\n",
       "  <tbody>\n",
       "    <tr>\n",
       "      <th>0</th>\n",
       "      <td>0</td>\n",
       "      <td>0</td>\n",
       "      <td>1.0</td>\n",
       "    </tr>\n",
       "    <tr>\n",
       "      <th>1</th>\n",
       "      <td>26</td>\n",
       "      <td>52</td>\n",
       "      <td>1.0</td>\n",
       "    </tr>\n",
       "    <tr>\n",
       "      <th>2</th>\n",
       "      <td>0</td>\n",
       "      <td>0</td>\n",
       "      <td>1.0</td>\n",
       "    </tr>\n",
       "    <tr>\n",
       "      <th>3</th>\n",
       "      <td>48</td>\n",
       "      <td>96</td>\n",
       "      <td>1.0</td>\n",
       "    </tr>\n",
       "    <tr>\n",
       "      <th>4</th>\n",
       "      <td>31</td>\n",
       "      <td>62</td>\n",
       "      <td>1.0</td>\n",
       "    </tr>\n",
       "  </tbody>\n",
       "</table>\n",
       "</div>"
      ],
      "text/plain": [
       "   target  predictor1  predictor2\n",
       "0       0           0         1.0\n",
       "1      26          52         1.0\n",
       "2       0           0         1.0\n",
       "3      48          96         1.0\n",
       "4      31          62         1.0"
      ]
     },
     "metadata": {},
     "output_type": "display_data"
    },
    {
     "data": {
      "text/html": [
       "<div>\n",
       "<style scoped>\n",
       "    .dataframe tbody tr th:only-of-type {\n",
       "        vertical-align: middle;\n",
       "    }\n",
       "\n",
       "    .dataframe tbody tr th {\n",
       "        vertical-align: top;\n",
       "    }\n",
       "\n",
       "    .dataframe thead th {\n",
       "        text-align: right;\n",
       "    }\n",
       "</style>\n",
       "<table border=\"1\" class=\"dataframe\">\n",
       "  <thead>\n",
       "    <tr style=\"text-align: right;\">\n",
       "      <th></th>\n",
       "      <th>target</th>\n",
       "      <th>predictor1</th>\n",
       "      <th>predictor2</th>\n",
       "    </tr>\n",
       "  </thead>\n",
       "  <tbody>\n",
       "    <tr>\n",
       "      <th>count</th>\n",
       "      <td>500.00000</td>\n",
       "      <td>500.00000</td>\n",
       "      <td>500.0</td>\n",
       "    </tr>\n",
       "    <tr>\n",
       "      <th>mean</th>\n",
       "      <td>24.34400</td>\n",
       "      <td>48.68800</td>\n",
       "      <td>1.0</td>\n",
       "    </tr>\n",
       "    <tr>\n",
       "      <th>std</th>\n",
       "      <td>14.66519</td>\n",
       "      <td>29.33038</td>\n",
       "      <td>0.0</td>\n",
       "    </tr>\n",
       "    <tr>\n",
       "      <th>min</th>\n",
       "      <td>0.00000</td>\n",
       "      <td>0.00000</td>\n",
       "      <td>1.0</td>\n",
       "    </tr>\n",
       "    <tr>\n",
       "      <th>25%</th>\n",
       "      <td>11.00000</td>\n",
       "      <td>22.00000</td>\n",
       "      <td>1.0</td>\n",
       "    </tr>\n",
       "    <tr>\n",
       "      <th>50%</th>\n",
       "      <td>24.00000</td>\n",
       "      <td>48.00000</td>\n",
       "      <td>1.0</td>\n",
       "    </tr>\n",
       "    <tr>\n",
       "      <th>75%</th>\n",
       "      <td>37.00000</td>\n",
       "      <td>74.00000</td>\n",
       "      <td>1.0</td>\n",
       "    </tr>\n",
       "    <tr>\n",
       "      <th>max</th>\n",
       "      <td>49.00000</td>\n",
       "      <td>98.00000</td>\n",
       "      <td>1.0</td>\n",
       "    </tr>\n",
       "  </tbody>\n",
       "</table>\n",
       "</div>"
      ],
      "text/plain": [
       "          target  predictor1  predictor2\n",
       "count  500.00000   500.00000       500.0\n",
       "mean    24.34400    48.68800         1.0\n",
       "std     14.66519    29.33038         0.0\n",
       "min      0.00000     0.00000         1.0\n",
       "25%     11.00000    22.00000         1.0\n",
       "50%     24.00000    48.00000         1.0\n",
       "75%     37.00000    74.00000         1.0\n",
       "max     49.00000    98.00000         1.0"
      ]
     },
     "execution_count": 88,
     "metadata": {},
     "output_type": "execute_result"
    }
   ],
   "source": [
    "# Simulate data of 'N' rows\n",
    "N=500\n",
    "## Target is random value from 0 to 50\n",
    "df = pd.DataFrame({'target':np.random.randint(0,50,N)})\n",
    "## Predictor1 is root of target doubled\n",
    "df['predictor1']=df['target']*2\n",
    "## Predictor2 is random number divided by 20\n",
    "df['predictor2']=np.ones(N)\n",
    "# Resulting dataset\n",
    "display(df.head())\n",
    "df.describe()"
   ]
  },
  {
   "cell_type": "code",
   "execution_count": 89,
   "metadata": {},
   "outputs": [
    {
     "name": "stdout",
     "output_type": "stream",
     "text": [
      "(100, 3) (400, 3)\n"
     ]
    }
   ],
   "source": [
    "# Split train/validate using ratio\n",
    "test_ratio = 0.2\n",
    "\n",
    "dfeval=df[int(N*(1-test_ratio)):N].reset_index(drop=True)\n",
    "dftrain=df[0:int(N*(1-test_ratio))].reset_index(drop=True)\n",
    "print(dfeval.shape,dftrain.shape)"
   ]
  },
  {
   "cell_type": "code",
   "execution_count": 90,
   "metadata": {},
   "outputs": [],
   "source": [
    "y_train = dftrain.pop('target')\n",
    "y_eval = dfeval.pop('target')"
   ]
  },
  {
   "cell_type": "code",
   "execution_count": 91,
   "metadata": {},
   "outputs": [
    {
     "data": {
      "text/plain": [
       "[_NumericColumn(key='predictor1', shape=(1,), default_value=None, dtype=tf.float32, normalizer_fn=None),\n",
       " _NumericColumn(key='predictor2', shape=(1,), default_value=None, dtype=tf.float32, normalizer_fn=None)]"
      ]
     },
     "execution_count": 91,
     "metadata": {},
     "output_type": "execute_result"
    }
   ],
   "source": [
    "fc = tf.feature_column\n",
    "CATEGORICAL_COLUMNS = list()\n",
    "NUMERIC_COLUMNS = list(dfeval.columns.values)\n",
    "feature_columns = []\n",
    "for feature_name in NUMERIC_COLUMNS:\n",
    "    feature_columns.append(fc.numeric_column(feature_name,dtype=tf.float32))\n",
    "\n",
    "feature_columns"
   ]
  },
  {
   "cell_type": "code",
   "execution_count": 92,
   "metadata": {},
   "outputs": [],
   "source": [
    "# Use entire batch since this is such a small dataset.\n",
    "NUM_EXAMPLES = len(y_train)\n",
    "\n",
    "def make_input_fn(X, y, n_epochs=None, shuffle=True):\n",
    "    def input_fn():\n",
    "        dataset = tf.data.Dataset.from_tensor_slices((dict(X), y))\n",
    "        if shuffle:\n",
    "            dataset = dataset.shuffle(NUM_EXAMPLES)\n",
    "        # For training, cycle thru dataset as many times as need (n_epochs=None).\n",
    "        dataset = dataset.repeat(n_epochs)\n",
    "        # In memory training doesn't use batching.\n",
    "        dataset = dataset.batch(NUM_EXAMPLES)\n",
    "        return dataset\n",
    "    return input_fn\n",
    "\n",
    "# Training and evaluation input functions.\n",
    "train_input_fn = make_input_fn(dftrain, y_train)\n",
    "eval_input_fn = make_input_fn(dfeval, y_eval, shuffle=False, n_epochs=1)"
   ]
  },
  {
   "cell_type": "code",
   "execution_count": 106,
   "metadata": {},
   "outputs": [
    {
     "name": "stdout",
     "output_type": "stream",
     "text": [
      "average_loss :  1.880153e-11\n",
      "loss:  1.880153e-09\n"
     ]
    }
   ],
   "source": [
    "linear_est = tf.estimator.LinearRegressor(feature_columns)\n",
    "\n",
    "# Train model.\n",
    "linear_est.train(train_input_fn, max_steps=10000)\n",
    "\n",
    "# Evaluation.\n",
    "results = linear_est.evaluate(eval_input_fn)\n",
    "\n",
    "print('average_loss : ', results['average_loss'])\n",
    "print('loss: ', results['loss'])"
   ]
  },
  {
   "cell_type": "code",
   "execution_count": 121,
   "metadata": {},
   "outputs": [
    {
     "name": "stdout",
     "output_type": "stream",
     "text": [
      "global_step 10000\n",
      "linear/linear_model/bias_weights [3.3385222e-06]\n",
      "linear/linear_model/bias_weights/part_0/Ftrl [5.9307904e+08]\n",
      "linear/linear_model/bias_weights/part_0/Ftrl_1 [-0.40651873]\n",
      "linear/linear_model/predictor1/weights [[0.49999985]]\n",
      "linear/linear_model/predictor1/weights/part_0/Ftrl [[2.6044523e+12]]\n",
      "linear/linear_model/predictor1/weights/part_0/Ftrl_1 [[-4034577.5]]\n",
      "linear/linear_model/predictor2/weights [[3.3385222e-06]]\n",
      "linear/linear_model/predictor2/weights/part_0/Ftrl [[5.9307904e+08]]\n",
      "linear/linear_model/predictor2/weights/part_0/Ftrl_1 [[-0.40651873]]\n"
     ]
    }
   ],
   "source": [
    "# Coefficients\n",
    "for name in linear_est.get_variable_names():\n",
    "    print(name,linear_est.get_variable_value(name))"
   ]
  },
  {
   "cell_type": "code",
   "execution_count": 127,
   "metadata": {},
   "outputs": [],
   "source": [
    "CATEGORICAL_COLUMNS = list()\n",
    "NUMERIC_COLUMNS = list(dfeval.columns.values)\n",
    "b_feature_columns = []\n",
    "\n",
    "# https://www.tensorflow.org/guide/feature_columns\n",
    "# First, convert the raw input to a numeric column.\n",
    "for feature_name in NUMERIC_COLUMNS:\n",
    "    numeric_feature_column = fc.numeric_column(feature_name,dtype=tf.float32)\n",
    "    # Then, bucketize the numeric column on the years 1960, 1980, and 2000.\n",
    "    bucketized_feature_column = fc.bucketized_column(\n",
    "        source_column = numeric_feature_column,\n",
    "        boundaries = list(range(0,100,10)))\n",
    "    b_feature_columns.append(bucketized_feature_column)"
   ]
  },
  {
   "cell_type": "code",
   "execution_count": 128,
   "metadata": {},
   "outputs": [
    {
     "name": "stdout",
     "output_type": "stream",
     "text": [
      "average_loss :  2.2063274\n",
      "loss:  2.2063274\n"
     ]
    }
   ],
   "source": [
    "# https://www.tensorflow.org/tutorials/estimators/boosted_trees\n",
    "# Since data fits into memory, use entire dataset per layer. It will be faster.\n",
    "# Above one batch is defined as the entire dataset. \n",
    "n_batches = 1\n",
    "est = tf.estimator.BoostedTreesRegressor(b_feature_columns,\n",
    "                                          n_batches_per_layer=n_batches)\n",
    "\n",
    "# The model will stop training once the specified number of trees is built, not \n",
    "# based on the number of steps.\n",
    "est.train(train_input_fn, max_steps=1000)\n",
    "\n",
    "# Eval.\n",
    "results = est.evaluate(eval_input_fn)\n",
    "print('average_loss : ', results['average_loss'])\n",
    "print('loss: ', results['loss'])"
   ]
  },
  {
   "cell_type": "code",
   "execution_count": 165,
   "metadata": {},
   "outputs": [
    {
     "data": {
      "image/png": "[encoded data removed]",
      "text/plain": [
       "<Figure size 432x288 with 1 Axes>"
      ]
     },
     "metadata": {
      "needs_background": "light"
     },
     "output_type": "display_data"
    }
   ],
   "source": [
    "importances = est.experimental_feature_importances(normalize=True)\n",
    "#df_imp = pd.DataFrame(importances)\n",
    "\n",
    "# Visualize importances.\n",
    "N = 8\n",
    "df=[]; it=0\n",
    "for i in list(importances[0]):\n",
    "    df.append({i:importances[1][it]})\n",
    "    it+=1\n",
    "df_imp=pd.DataFrame(df).sum()\n",
    "ax = (df_imp.iloc[0:N][::-1].plot(kind='barh'))"
   ]
  }
 ],
 "metadata": {
  "kernelspec": {
   "display_name": "Python 3",
   "language": "python",
   "name": "python3"
  },
  "language_info": {
   "codemirror_mode": {
    "name": "ipython",
    "version": 3
   },
   "file_extension": ".py",
   "mimetype": "text/x-python",
   "name": "python",
   "nbconvert_exporter": "python",
   "pygments_lexer": "ipython3",
   "version": "3.6.8"
  }
 },
 "nbformat": 4,
 "nbformat_minor": 2
}
